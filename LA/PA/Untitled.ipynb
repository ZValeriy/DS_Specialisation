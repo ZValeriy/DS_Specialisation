{
 "cells": [
  {
   "cell_type": "code",
   "execution_count": 9,
   "metadata": {},
   "outputs": [],
   "source": [
    "import re\n",
    "import numpy as np\n",
    "import scipy.spatial"
   ]
  },
  {
   "cell_type": "code",
   "execution_count": 7,
   "metadata": {},
   "outputs": [],
   "source": [
    "file = open(\"sentences.txt\", 'r')"
   ]
  },
  {
   "cell_type": "code",
   "execution_count": 8,
   "metadata": {},
   "outputs": [],
   "source": [
    "sentences = file.read().split(\"\\n\")"
   ]
  },
  {
   "cell_type": "code",
   "execution_count": 9,
   "metadata": {},
   "outputs": [
    {
     "data": {
      "text/plain": [
       "['In comparison to dogs, cats have not undergone major changes during the domestication process.',\n",
       " 'As cat simply catenates streams of bytes, it can be also used to concatenate binary files, where it will just concatenate sequence of bytes.',\n",
       " 'A common interactive use of cat for a single file is to output the content of a file to standard output.',\n",
       " 'Cats can hear sounds too faint or too high in frequency for human ears, such as those made by mice and other small animals.',\n",
       " 'In one, people deliberately tamed cats in a process of artificial selection, as they were useful predators of vermin.',\n",
       " 'The domesticated cat and its closest wild ancestor are both diploid organisms that possess 38 chromosomes and roughly 20,000 genes.',\n",
       " 'Domestic cats are similar in size to the other members of the genus Felis, typically weighing between 4 and 5 kg (8.8 and 11.0 lb).',\n",
       " 'However, if the output is piped or redirected, cat is unnecessary.',\n",
       " 'cat with one named file is safer where human error is a concern - one wrong use of the default redirection symbol \">\" instead of \"<\" (often adjacent on keyboards) may permanently delete the file you were just needing to read.',\n",
       " 'In terms of legibility, a sequence of commands starting with cat and connected by pipes has a clear left-to-right flow of information.',\n",
       " 'Cat command is one of the basic commands that you learned when you started in the Unix / Linux world.',\n",
       " 'Using cat command, the lines received from stdin can be redirected to a new file using redirection symbols.',\n",
       " 'When you type simply cat command without any arguments, it just receives the stdin content and displays it in the stdout.',\n",
       " 'Leopard was released on October 26, 2007 as the successor of Tiger (version 10.4), and is available in two editions.',\n",
       " 'According to Apple, Leopard contains over 300 changes and enhancements over its predecessor, Mac OS X Tiger.',\n",
       " 'As of Mid 2010, some Apple computers have firmware factory installed which will no longer allow installation of Mac OS X Leopard.',\n",
       " 'Since Apple moved to using Intel processors in their computers, the OSx86 community has developed and now also allows Mac OS X Tiger and later releases to be installed on non-Apple x86-based computers.',\n",
       " \"OS X Mountain Lion was released on July 25, 2012 for purchase and download through Apple's Mac App Store, as part of a switch to releasing OS X versions online and every year.\",\n",
       " 'Apple has released a small patch for the three most recent versions of Safari running on OS X Yosemite, Mavericks, and Mountain Lion.',\n",
       " 'The Mountain Lion release marks the second time Apple has offered an incremental upgrade, rather than releasing a new cat entirely.',\n",
       " \"Mac OS X Mountain Lion installs in place, so you won't need to create a separate disk or run the installation off an external drive.\",\n",
       " \"The fifth major update to Mac OS X, Leopard, contains such a mountain of features - more than 300 by Apple's count.\",\n",
       " '']"
      ]
     },
     "execution_count": 9,
     "metadata": {},
     "output_type": "execute_result"
    }
   ],
   "source": [
    "sentences"
   ]
  },
  {
   "cell_type": "code",
   "execution_count": 24,
   "metadata": {},
   "outputs": [],
   "source": [
    "lower = [re.split('[^a-z]', x.lower()) for x in sentences]"
   ]
  },
  {
   "cell_type": "code",
   "execution_count": 25,
   "metadata": {},
   "outputs": [],
   "source": [
    "ready = []\n",
    "for sent in lower:\n",
    "    ready.append([x for x in sent if len(x)>0])"
   ]
  },
  {
   "cell_type": "code",
   "execution_count": 26,
   "metadata": {},
   "outputs": [
    {
     "data": {
      "text/plain": [
       "[['in',\n",
       "  'comparison',\n",
       "  'to',\n",
       "  'dogs',\n",
       "  'cats',\n",
       "  'have',\n",
       "  'not',\n",
       "  'undergone',\n",
       "  'major',\n",
       "  'changes',\n",
       "  'during',\n",
       "  'the',\n",
       "  'domestication',\n",
       "  'process'],\n",
       " ['as',\n",
       "  'cat',\n",
       "  'simply',\n",
       "  'catenates',\n",
       "  'streams',\n",
       "  'of',\n",
       "  'bytes',\n",
       "  'it',\n",
       "  'can',\n",
       "  'be',\n",
       "  'also',\n",
       "  'used',\n",
       "  'to',\n",
       "  'concatenate',\n",
       "  'binary',\n",
       "  'files',\n",
       "  'where',\n",
       "  'it',\n",
       "  'will',\n",
       "  'just',\n",
       "  'concatenate',\n",
       "  'sequence',\n",
       "  'of',\n",
       "  'bytes'],\n",
       " ['a',\n",
       "  'common',\n",
       "  'interactive',\n",
       "  'use',\n",
       "  'of',\n",
       "  'cat',\n",
       "  'for',\n",
       "  'a',\n",
       "  'single',\n",
       "  'file',\n",
       "  'is',\n",
       "  'to',\n",
       "  'output',\n",
       "  'the',\n",
       "  'content',\n",
       "  'of',\n",
       "  'a',\n",
       "  'file',\n",
       "  'to',\n",
       "  'standard',\n",
       "  'output'],\n",
       " ['cats',\n",
       "  'can',\n",
       "  'hear',\n",
       "  'sounds',\n",
       "  'too',\n",
       "  'faint',\n",
       "  'or',\n",
       "  'too',\n",
       "  'high',\n",
       "  'in',\n",
       "  'frequency',\n",
       "  'for',\n",
       "  'human',\n",
       "  'ears',\n",
       "  'such',\n",
       "  'as',\n",
       "  'those',\n",
       "  'made',\n",
       "  'by',\n",
       "  'mice',\n",
       "  'and',\n",
       "  'other',\n",
       "  'small',\n",
       "  'animals'],\n",
       " ['in',\n",
       "  'one',\n",
       "  'people',\n",
       "  'deliberately',\n",
       "  'tamed',\n",
       "  'cats',\n",
       "  'in',\n",
       "  'a',\n",
       "  'process',\n",
       "  'of',\n",
       "  'artificial',\n",
       "  'selection',\n",
       "  'as',\n",
       "  'they',\n",
       "  'were',\n",
       "  'useful',\n",
       "  'predators',\n",
       "  'of',\n",
       "  'vermin'],\n",
       " ['the',\n",
       "  'domesticated',\n",
       "  'cat',\n",
       "  'and',\n",
       "  'its',\n",
       "  'closest',\n",
       "  'wild',\n",
       "  'ancestor',\n",
       "  'are',\n",
       "  'both',\n",
       "  'diploid',\n",
       "  'organisms',\n",
       "  'that',\n",
       "  'possess',\n",
       "  'chromosomes',\n",
       "  'and',\n",
       "  'roughly',\n",
       "  'genes'],\n",
       " ['domestic',\n",
       "  'cats',\n",
       "  'are',\n",
       "  'similar',\n",
       "  'in',\n",
       "  'size',\n",
       "  'to',\n",
       "  'the',\n",
       "  'other',\n",
       "  'members',\n",
       "  'of',\n",
       "  'the',\n",
       "  'genus',\n",
       "  'felis',\n",
       "  'typically',\n",
       "  'weighing',\n",
       "  'between',\n",
       "  'and',\n",
       "  'kg',\n",
       "  'and',\n",
       "  'lb'],\n",
       " ['however',\n",
       "  'if',\n",
       "  'the',\n",
       "  'output',\n",
       "  'is',\n",
       "  'piped',\n",
       "  'or',\n",
       "  'redirected',\n",
       "  'cat',\n",
       "  'is',\n",
       "  'unnecessary'],\n",
       " ['cat',\n",
       "  'with',\n",
       "  'one',\n",
       "  'named',\n",
       "  'file',\n",
       "  'is',\n",
       "  'safer',\n",
       "  'where',\n",
       "  'human',\n",
       "  'error',\n",
       "  'is',\n",
       "  'a',\n",
       "  'concern',\n",
       "  'one',\n",
       "  'wrong',\n",
       "  'use',\n",
       "  'of',\n",
       "  'the',\n",
       "  'default',\n",
       "  'redirection',\n",
       "  'symbol',\n",
       "  'instead',\n",
       "  'of',\n",
       "  'often',\n",
       "  'adjacent',\n",
       "  'on',\n",
       "  'keyboards',\n",
       "  'may',\n",
       "  'permanently',\n",
       "  'delete',\n",
       "  'the',\n",
       "  'file',\n",
       "  'you',\n",
       "  'were',\n",
       "  'just',\n",
       "  'needing',\n",
       "  'to',\n",
       "  'read'],\n",
       " ['in',\n",
       "  'terms',\n",
       "  'of',\n",
       "  'legibility',\n",
       "  'a',\n",
       "  'sequence',\n",
       "  'of',\n",
       "  'commands',\n",
       "  'starting',\n",
       "  'with',\n",
       "  'cat',\n",
       "  'and',\n",
       "  'connected',\n",
       "  'by',\n",
       "  'pipes',\n",
       "  'has',\n",
       "  'a',\n",
       "  'clear',\n",
       "  'left',\n",
       "  'to',\n",
       "  'right',\n",
       "  'flow',\n",
       "  'of',\n",
       "  'information'],\n",
       " ['cat',\n",
       "  'command',\n",
       "  'is',\n",
       "  'one',\n",
       "  'of',\n",
       "  'the',\n",
       "  'basic',\n",
       "  'commands',\n",
       "  'that',\n",
       "  'you',\n",
       "  'learned',\n",
       "  'when',\n",
       "  'you',\n",
       "  'started',\n",
       "  'in',\n",
       "  'the',\n",
       "  'unix',\n",
       "  'linux',\n",
       "  'world'],\n",
       " ['using',\n",
       "  'cat',\n",
       "  'command',\n",
       "  'the',\n",
       "  'lines',\n",
       "  'received',\n",
       "  'from',\n",
       "  'stdin',\n",
       "  'can',\n",
       "  'be',\n",
       "  'redirected',\n",
       "  'to',\n",
       "  'a',\n",
       "  'new',\n",
       "  'file',\n",
       "  'using',\n",
       "  'redirection',\n",
       "  'symbols'],\n",
       " ['when',\n",
       "  'you',\n",
       "  'type',\n",
       "  'simply',\n",
       "  'cat',\n",
       "  'command',\n",
       "  'without',\n",
       "  'any',\n",
       "  'arguments',\n",
       "  'it',\n",
       "  'just',\n",
       "  'receives',\n",
       "  'the',\n",
       "  'stdin',\n",
       "  'content',\n",
       "  'and',\n",
       "  'displays',\n",
       "  'it',\n",
       "  'in',\n",
       "  'the',\n",
       "  'stdout'],\n",
       " ['leopard',\n",
       "  'was',\n",
       "  'released',\n",
       "  'on',\n",
       "  'october',\n",
       "  'as',\n",
       "  'the',\n",
       "  'successor',\n",
       "  'of',\n",
       "  'tiger',\n",
       "  'version',\n",
       "  'and',\n",
       "  'is',\n",
       "  'available',\n",
       "  'in',\n",
       "  'two',\n",
       "  'editions'],\n",
       " ['according',\n",
       "  'to',\n",
       "  'apple',\n",
       "  'leopard',\n",
       "  'contains',\n",
       "  'over',\n",
       "  'changes',\n",
       "  'and',\n",
       "  'enhancements',\n",
       "  'over',\n",
       "  'its',\n",
       "  'predecessor',\n",
       "  'mac',\n",
       "  'os',\n",
       "  'x',\n",
       "  'tiger'],\n",
       " ['as',\n",
       "  'of',\n",
       "  'mid',\n",
       "  'some',\n",
       "  'apple',\n",
       "  'computers',\n",
       "  'have',\n",
       "  'firmware',\n",
       "  'factory',\n",
       "  'installed',\n",
       "  'which',\n",
       "  'will',\n",
       "  'no',\n",
       "  'longer',\n",
       "  'allow',\n",
       "  'installation',\n",
       "  'of',\n",
       "  'mac',\n",
       "  'os',\n",
       "  'x',\n",
       "  'leopard'],\n",
       " ['since',\n",
       "  'apple',\n",
       "  'moved',\n",
       "  'to',\n",
       "  'using',\n",
       "  'intel',\n",
       "  'processors',\n",
       "  'in',\n",
       "  'their',\n",
       "  'computers',\n",
       "  'the',\n",
       "  'osx',\n",
       "  'community',\n",
       "  'has',\n",
       "  'developed',\n",
       "  'and',\n",
       "  'now',\n",
       "  'also',\n",
       "  'allows',\n",
       "  'mac',\n",
       "  'os',\n",
       "  'x',\n",
       "  'tiger',\n",
       "  'and',\n",
       "  'later',\n",
       "  'releases',\n",
       "  'to',\n",
       "  'be',\n",
       "  'installed',\n",
       "  'on',\n",
       "  'non',\n",
       "  'apple',\n",
       "  'x',\n",
       "  'based',\n",
       "  'computers'],\n",
       " ['os',\n",
       "  'x',\n",
       "  'mountain',\n",
       "  'lion',\n",
       "  'was',\n",
       "  'released',\n",
       "  'on',\n",
       "  'july',\n",
       "  'for',\n",
       "  'purchase',\n",
       "  'and',\n",
       "  'download',\n",
       "  'through',\n",
       "  'apple',\n",
       "  's',\n",
       "  'mac',\n",
       "  'app',\n",
       "  'store',\n",
       "  'as',\n",
       "  'part',\n",
       "  'of',\n",
       "  'a',\n",
       "  'switch',\n",
       "  'to',\n",
       "  'releasing',\n",
       "  'os',\n",
       "  'x',\n",
       "  'versions',\n",
       "  'online',\n",
       "  'and',\n",
       "  'every',\n",
       "  'year'],\n",
       " ['apple',\n",
       "  'has',\n",
       "  'released',\n",
       "  'a',\n",
       "  'small',\n",
       "  'patch',\n",
       "  'for',\n",
       "  'the',\n",
       "  'three',\n",
       "  'most',\n",
       "  'recent',\n",
       "  'versions',\n",
       "  'of',\n",
       "  'safari',\n",
       "  'running',\n",
       "  'on',\n",
       "  'os',\n",
       "  'x',\n",
       "  'yosemite',\n",
       "  'mavericks',\n",
       "  'and',\n",
       "  'mountain',\n",
       "  'lion'],\n",
       " ['the',\n",
       "  'mountain',\n",
       "  'lion',\n",
       "  'release',\n",
       "  'marks',\n",
       "  'the',\n",
       "  'second',\n",
       "  'time',\n",
       "  'apple',\n",
       "  'has',\n",
       "  'offered',\n",
       "  'an',\n",
       "  'incremental',\n",
       "  'upgrade',\n",
       "  'rather',\n",
       "  'than',\n",
       "  'releasing',\n",
       "  'a',\n",
       "  'new',\n",
       "  'cat',\n",
       "  'entirely'],\n",
       " ['mac',\n",
       "  'os',\n",
       "  'x',\n",
       "  'mountain',\n",
       "  'lion',\n",
       "  'installs',\n",
       "  'in',\n",
       "  'place',\n",
       "  'so',\n",
       "  'you',\n",
       "  'won',\n",
       "  't',\n",
       "  'need',\n",
       "  'to',\n",
       "  'create',\n",
       "  'a',\n",
       "  'separate',\n",
       "  'disk',\n",
       "  'or',\n",
       "  'run',\n",
       "  'the',\n",
       "  'installation',\n",
       "  'off',\n",
       "  'an',\n",
       "  'external',\n",
       "  'drive'],\n",
       " ['the',\n",
       "  'fifth',\n",
       "  'major',\n",
       "  'update',\n",
       "  'to',\n",
       "  'mac',\n",
       "  'os',\n",
       "  'x',\n",
       "  'leopard',\n",
       "  'contains',\n",
       "  'such',\n",
       "  'a',\n",
       "  'mountain',\n",
       "  'of',\n",
       "  'features',\n",
       "  'more',\n",
       "  'than',\n",
       "  'by',\n",
       "  'apple',\n",
       "  's',\n",
       "  'count'],\n",
       " []]"
      ]
     },
     "execution_count": 26,
     "metadata": {},
     "output_type": "execute_result"
    }
   ],
   "source": [
    "ready"
   ]
  },
  {
   "cell_type": "code",
   "execution_count": 31,
   "metadata": {},
   "outputs": [],
   "source": [
    "unique_set = set()\n",
    "for sent in ready:\n",
    "    for word in sent:\n",
    "        unique_set.add(word)"
   ]
  },
  {
   "cell_type": "code",
   "execution_count": 32,
   "metadata": {
    "scrolled": true
   },
   "outputs": [
    {
     "data": {
      "text/plain": [
       "254"
      ]
     },
     "execution_count": 32,
     "metadata": {},
     "output_type": "execute_result"
    }
   ],
   "source": [
    "len(unique_set)"
   ]
  },
  {
   "cell_type": "code",
   "execution_count": 47,
   "metadata": {},
   "outputs": [],
   "source": [
    "unique_arr = list(unique_set)"
   ]
  },
  {
   "cell_type": "code",
   "execution_count": 37,
   "metadata": {},
   "outputs": [],
   "source": [
    "del ready[-1]"
   ]
  },
  {
   "cell_type": "code",
   "execution_count": 39,
   "metadata": {},
   "outputs": [],
   "source": [
    "matrix = np.zeros((len(ready), len(unique_set)))"
   ]
  },
  {
   "cell_type": "code",
   "execution_count": 42,
   "metadata": {},
   "outputs": [
    {
     "data": {
      "text/plain": [
       "(22, 254)"
      ]
     },
     "execution_count": 42,
     "metadata": {},
     "output_type": "execute_result"
    }
   ],
   "source": [
    "matrix.shape"
   ]
  },
  {
   "cell_type": "code",
   "execution_count": 44,
   "metadata": {},
   "outputs": [],
   "source": [
    "def countWord(sent, xword):\n",
    "    counter = 0\n",
    "    for word in sent:\n",
    "        if word == xword:\n",
    "            counter += 1\n",
    "    return counter"
   ]
  },
  {
   "cell_type": "code",
   "execution_count": 48,
   "metadata": {},
   "outputs": [],
   "source": [
    "for i in range(len(matrix)):\n",
    "    for j in range(len(matrix[i])):\n",
    "        matrix[i][j] = countWord(ready[i], unique_arr[j])"
   ]
  },
  {
   "cell_type": "code",
   "execution_count": 49,
   "metadata": {},
   "outputs": [
    {
     "data": {
      "text/plain": [
       "array([[0., 0., 0., ..., 0., 0., 0.],\n",
       "       [0., 0., 0., ..., 0., 0., 0.],\n",
       "       [0., 0., 0., ..., 0., 0., 0.],\n",
       "       ...,\n",
       "       [0., 0., 0., ..., 0., 0., 1.],\n",
       "       [0., 0., 0., ..., 0., 0., 0.],\n",
       "       [0., 0., 0., ..., 0., 0., 0.]])"
      ]
     },
     "execution_count": 49,
     "metadata": {},
     "output_type": "execute_result"
    }
   ],
   "source": [
    "matrix"
   ]
  },
  {
   "cell_type": "code",
   "execution_count": 55,
   "metadata": {},
   "outputs": [],
   "source": [
    "dists = []\n",
    "for sent in matrix:\n",
    "    dists.append(scipy.spatial.distance.cosine(matrix[0, :], sent))"
   ]
  },
  {
   "cell_type": "code",
   "execution_count": 56,
   "metadata": {
    "scrolled": true
   },
   "outputs": [
    {
     "data": {
      "text/plain": [
       "[0.0,\n",
       " 0.9527544408738466,\n",
       " 0.8644738145642124,\n",
       " 0.8951715163278082,\n",
       " 0.7770887149698589,\n",
       " 0.9402385695332803,\n",
       " 0.7327387580875756,\n",
       " 0.9258750683338899,\n",
       " 0.8842724875284311,\n",
       " 0.9055088817476932,\n",
       " 0.8328165362273942,\n",
       " 0.8804771390665607,\n",
       " 0.8396432548525454,\n",
       " 0.8703592552895671,\n",
       " 0.8740118423302576,\n",
       " 0.9442721787424647,\n",
       " 0.8406361854220809,\n",
       " 0.956644501523794,\n",
       " 0.9442721787424647,\n",
       " 0.8885443574849294,\n",
       " 0.8427572744917122,\n",
       " 0.8250364469440588]"
      ]
     },
     "execution_count": 56,
     "metadata": {},
     "output_type": "execute_result"
    }
   ],
   "source": [
    "dists"
   ]
  },
  {
   "cell_type": "code",
   "execution_count": 63,
   "metadata": {
    "scrolled": true
   },
   "outputs": [
    {
     "data": {
      "text/plain": [
       "['domestic',\n",
       " 'cats',\n",
       " 'are',\n",
       " 'similar',\n",
       " 'in',\n",
       " 'size',\n",
       " 'to',\n",
       " 'the',\n",
       " 'other',\n",
       " 'members',\n",
       " 'of',\n",
       " 'the',\n",
       " 'genus',\n",
       " 'felis',\n",
       " 'typically',\n",
       " 'weighing',\n",
       " 'between',\n",
       " 'and',\n",
       " 'kg',\n",
       " 'and',\n",
       " 'lb']"
      ]
     },
     "execution_count": 63,
     "metadata": {},
     "output_type": "execute_result"
    }
   ],
   "source": [
    "ready[6] #73"
   ]
  },
  {
   "cell_type": "code",
   "execution_count": 64,
   "metadata": {},
   "outputs": [
    {
     "data": {
      "text/plain": [
       "['in',\n",
       " 'one',\n",
       " 'people',\n",
       " 'deliberately',\n",
       " 'tamed',\n",
       " 'cats',\n",
       " 'in',\n",
       " 'a',\n",
       " 'process',\n",
       " 'of',\n",
       " 'artificial',\n",
       " 'selection',\n",
       " 'as',\n",
       " 'they',\n",
       " 'were',\n",
       " 'useful',\n",
       " 'predators',\n",
       " 'of',\n",
       " 'vermin']"
      ]
     },
     "execution_count": 64,
     "metadata": {},
     "output_type": "execute_result"
    }
   ],
   "source": [
    "ready[4]"
   ]
  },
  {
   "cell_type": "code",
   "execution_count": 60,
   "metadata": {},
   "outputs": [
    {
     "data": {
      "text/plain": [
       "['a',\n",
       " 'common',\n",
       " 'interactive',\n",
       " 'use',\n",
       " 'of',\n",
       " 'cat',\n",
       " 'for',\n",
       " 'a',\n",
       " 'single',\n",
       " 'file',\n",
       " 'is',\n",
       " 'to',\n",
       " 'output',\n",
       " 'the',\n",
       " 'content',\n",
       " 'of',\n",
       " 'a',\n",
       " 'file',\n",
       " 'to',\n",
       " 'standard',\n",
       " 'output']"
      ]
     },
     "execution_count": 60,
     "metadata": {},
     "output_type": "execute_result"
    }
   ],
   "source": [
    "ready[2] #952"
   ]
  },
  {
   "cell_type": "code",
   "execution_count": 61,
   "metadata": {},
   "outputs": [
    {
     "data": {
      "text/plain": [
       "['the',\n",
       " 'domesticated',\n",
       " 'cat',\n",
       " 'and',\n",
       " 'its',\n",
       " 'closest',\n",
       " 'wild',\n",
       " 'ancestor',\n",
       " 'are',\n",
       " 'both',\n",
       " 'diploid',\n",
       " 'organisms',\n",
       " 'that',\n",
       " 'possess',\n",
       " 'chromosomes',\n",
       " 'and',\n",
       " 'roughly',\n",
       " 'genes']"
      ]
     },
     "execution_count": 61,
     "metadata": {},
     "output_type": "execute_result"
    }
   ],
   "source": [
    "ready[5] #94 "
   ]
  },
  {
   "cell_type": "code",
   "execution_count": 62,
   "metadata": {},
   "outputs": [
    {
     "data": {
      "text/plain": [
       "['os',\n",
       " 'x',\n",
       " 'mountain',\n",
       " 'lion',\n",
       " 'was',\n",
       " 'released',\n",
       " 'on',\n",
       " 'july',\n",
       " 'for',\n",
       " 'purchase',\n",
       " 'and',\n",
       " 'download',\n",
       " 'through',\n",
       " 'apple',\n",
       " 's',\n",
       " 'mac',\n",
       " 'app',\n",
       " 'store',\n",
       " 'as',\n",
       " 'part',\n",
       " 'of',\n",
       " 'a',\n",
       " 'switch',\n",
       " 'to',\n",
       " 'releasing',\n",
       " 'os',\n",
       " 'x',\n",
       " 'versions',\n",
       " 'online',\n",
       " 'and',\n",
       " 'every',\n",
       " 'year']"
      ]
     },
     "execution_count": 62,
     "metadata": {},
     "output_type": "execute_result"
    }
   ],
   "source": [
    "ready[17] #956"
   ]
  },
  {
   "cell_type": "code",
   "execution_count": 62,
   "metadata": {},
   "outputs": [],
   "source": [
    "import math\n",
    "def func(x):\n",
    "    return math.sin(x / 5.0) * math.exp(x / 10.0) + 5 * math.exp(-x / 2.0)\n",
    "\n",
    "x1 = 1\n",
    "x2 = 15\n",
    "y1 = func(x1)\n",
    "y2 = func(x2)"
   ]
  },
  {
   "cell_type": "code",
   "execution_count": 63,
   "metadata": {},
   "outputs": [
    {
     "data": {
      "text/plain": [
       "array([-0.18692825,  3.43914511])"
      ]
     },
     "execution_count": 63,
     "metadata": {},
     "output_type": "execute_result"
    }
   ],
   "source": [
    "a = np.array([[x1,1], [x2,1]])\n",
    "b = np.array([y1,y2])\n",
    "\n",
    "np.linalg.solve(a, b)"
   ]
  },
  {
   "cell_type": "code",
   "execution_count": 64,
   "metadata": {},
   "outputs": [
    {
     "data": {
      "text/plain": [
       "(3.252216865271419, 0.6352214195786656)"
      ]
     },
     "execution_count": 64,
     "metadata": {},
     "output_type": "execute_result"
    }
   ],
   "source": [
    "y1, y2"
   ]
  },
  {
   "cell_type": "code",
   "execution_count": 65,
   "metadata": {},
   "outputs": [],
   "source": [
    "import matplotlib.pyplot as plt"
   ]
  },
  {
   "cell_type": "code",
   "execution_count": 66,
   "metadata": {},
   "outputs": [
    {
     "data": {
      "text/plain": [
       "[<matplotlib.lines.Line2D at 0x136f29290>]"
      ]
     },
     "execution_count": 66,
     "metadata": {},
     "output_type": "execute_result"
    },
    {
     "data": {
      "image/png": "[encoded data removed]",
      "text/plain": [
       "<Figure size 432x288 with 1 Axes>"
      ]
     },
     "metadata": {
      "needs_background": "light"
     },
     "output_type": "display_data"
    }
   ],
   "source": [
    "plt.plot([x1, x2], [y1, y2])\n",
    "plt.plot([x for x in range(1,16,1)], [func(x) for x in range(1, 16, 1)])"
   ]
  },
  {
   "cell_type": "code",
   "execution_count": 67,
   "metadata": {},
   "outputs": [],
   "source": [
    "x1 = 1.0\n",
    "x2 = 8.0\n",
    "x3 = 15.0\n",
    "\n",
    "y1 = func(x1)\n",
    "y2 = func(x2)\n",
    "y3 = func(x3)"
   ]
  },
  {
   "cell_type": "code",
   "execution_count": 68,
   "metadata": {},
   "outputs": [],
   "source": [
    "a = np.array([[x1, x1**2, 1], [x2, x2**2, 1], [x3, x3**2, 1]])\n",
    "b = np.array([y1, y2, y3])\n",
    "\n",
    "solve = np.linalg.solve(a, b)"
   ]
  },
  {
   "cell_type": "code",
   "execution_count": 69,
   "metadata": {},
   "outputs": [
    {
     "data": {
      "text/plain": [
       "[<matplotlib.lines.Line2D at 0x136ff4090>]"
      ]
     },
     "execution_count": 69,
     "metadata": {},
     "output_type": "execute_result"
    },
    {
     "data": {
      "image/png": "[encoded data removed]",
      "text/plain": [
       "<Figure size 432x288 with 1 Axes>"
      ]
     },
     "metadata": {
      "needs_background": "light"
     },
     "output_type": "display_data"
    }
   ],
   "source": [
    "def approx(x):\n",
    "    return solve[0]*x + solve[1]*(x**2) + solve[2]\n",
    "\n",
    "plt.plot([x1, x2, x3], [approx(x1), approx(x2), approx(x3)])\n",
    "plt.plot([x for x in range(1,16,1)], [func(x) for x in range(1, 16, 1)])"
   ]
  },
  {
   "cell_type": "code",
   "execution_count": 70,
   "metadata": {},
   "outputs": [],
   "source": [
    "x1 = 1.0\n",
    "x2 = 4.0\n",
    "x3 = 10.0\n",
    "x4 = 15.0\n",
    "\n",
    "y1 = func(x1)\n",
    "y2 = func(x2)\n",
    "y3 = func(x3)\n",
    "y4 = func(x4)"
   ]
  },
  {
   "cell_type": "code",
   "execution_count": 71,
   "metadata": {},
   "outputs": [],
   "source": [
    "a = np.array([[1, x1, x1**2, x1**3], [1, x2, x2**2, x2**3], [1, x3, x3**2, x3**3], [1, x4, x4**2, x4**3]])\n",
    "b = np.array([y1, y2, y3, y4])\n",
    "\n",
    "solve3 = np.linalg.solve(a, b)"
   ]
  },
  {
   "cell_type": "code",
   "execution_count": 72,
   "metadata": {},
   "outputs": [],
   "source": [
    "def approx3(x):\n",
    "    return solve3[0] + solve3[1]*x + solve3[2]*(x**2) + solve3[3]*(x**3)"
   ]
  },
  {
   "cell_type": "code",
   "execution_count": 73,
   "metadata": {},
   "outputs": [
    {
     "data": {
      "text/plain": [
       "[<matplotlib.lines.Line2D at 0x13705f190>]"
      ]
     },
     "execution_count": 73,
     "metadata": {},
     "output_type": "execute_result"
    },
    {
     "data": {
      "image/png": "[encoded data removed]",
      "text/plain": [
       "<Figure size 432x288 with 1 Axes>"
      ]
     },
     "metadata": {
      "needs_background": "light"
     },
     "output_type": "display_data"
    }
   ],
   "source": [
    "plt.plot([x1, x2, x3, x4], [approx3(x1), approx3(x2), approx3(x3), approx3(x4)])\n",
    "plt.plot([x for x in range(1,16,1)], [func(x) for x in range(1, 16, 1)])"
   ]
  },
  {
   "cell_type": "code",
   "execution_count": 74,
   "metadata": {},
   "outputs": [
    {
     "data": {
      "text/plain": [
       "array([ 4.36264154, -1.29552587,  0.19333685, -0.00823565])"
      ]
     },
     "execution_count": 74,
     "metadata": {},
     "output_type": "execute_result"
    }
   ],
   "source": [
    "solve3"
   ]
  },
  {
   "cell_type": "code",
   "execution_count": null,
   "metadata": {},
   "outputs": [],
   "source": []
  }
 ],
 "metadata": {
  "kernelspec": {
   "display_name": "Python 3",
   "language": "python",
   "name": "python3"
  },
  "language_info": {
   "codemirror_mode": {
    "name": "ipython",
    "version": 3
   },
   "file_extension": ".py",
   "mimetype": "text/x-python",
   "name": "python",
   "nbconvert_exporter": "python",
   "pygments_lexer": "ipython3",
   "version": "3.7.7"
  }
 },
 "nbformat": 4,
 "nbformat_minor": 4
}
