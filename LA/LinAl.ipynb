{
 "cells": [
  {
   "cell_type": "markdown",
   "metadata": {},
   "source": [
    "# Линейная алгебра \n"
   ]
  },
  {
   "cell_type": "markdown",
   "metadata": {},
   "source": [
    " ## Векторное пространство\n",
    " \n",
    " Сложение поэлементное.\n",
    " Умножение на число - поэлементное.\n",
    " "
   ]
  },
  {
   "cell_type": "markdown",
   "metadata": {},
   "source": [
    "## Матрицы\n",
    "\n",
    "A = ([1,2,3], [2,3,4)\n",
    "\n",
    "a12 - 1 строка 2 столбец\n",
    "\n",
    "R - пространство.\n"
   ]
  },
  {
   "cell_type": "markdown",
   "metadata": {},
   "source": [
    "С помощью матриц можно решать СЛАУ.\n"
   ]
  },
  {
   "cell_type": "markdown",
   "metadata": {},
   "source": [
    "Вектор размера n - тоже матрица. Просто одна размерность = 1\n",
    "\n",
    "Умножение  матрицы m x n на вектор-столбец размером nx1. Для этого умножаем каждый элемент строки с каждым элементом столбца и складываем их     \n",
    "\n",
    "Результат - Вектор n\n"
   ]
  },
  {
   "cell_type": "markdown",
   "metadata": {},
   "source": [
    "## Линейное преобразование.  \n",
    "Матрица mxn.   \n",
    "Если мы умножим на вектор длины n, то получим вектор длины m. Это - линейное преобразование."
   ]
  },
  {
   "cell_type": "markdown",
   "metadata": {},
   "source": [
    "## Умножение матриц"
   ]
  },
  {
   "cell_type": "markdown",
   "metadata": {},
   "source": [
    "A = m x n, B = n x k.  \n",
    "C = m x k\n",
    "\n",
    "Элемент находится как сумма произведений элементов строки и столбца\n"
   ]
  },
  {
   "cell_type": "markdown",
   "metadata": {},
   "source": [
    "## Транспонирование"
   ]
  },
  {
   "cell_type": "markdown",
   "metadata": {},
   "source": [
    "# Определитель\n",
    "\n",
    "Объем параллелограмма из n векторов-строк (столбцов)"
   ]
  },
  {
   "cell_type": "markdown",
   "metadata": {},
   "source": [
    "определитель равен нулю только тогда, когда строки линейно зависимы.  \n",
    "|A| = |A^T|\n"
   ]
  },
  {
   "cell_type": "markdown",
   "metadata": {},
   "source": [
    "# Ранг матрицы"
   ]
  },
  {
   "cell_type": "markdown",
   "metadata": {},
   "source": [
    "Ранг системы строк - максимально число ЛН строк"
   ]
  },
  {
   "cell_type": "markdown",
   "metadata": {},
   "source": [
    "Ранг - количество информации в матрице"
   ]
  },
  {
   "cell_type": "markdown",
   "metadata": {},
   "source": []
  },
  {
   "cell_type": "markdown",
   "metadata": {},
   "source": []
  }
 ],
 "metadata": {
  "kernelspec": {
   "display_name": "Python 3",
   "language": "python",
   "name": "python3"
  },
  "language_info": {
   "codemirror_mode": {
    "name": "ipython",
    "version": 3
   },
   "file_extension": ".py",
   "mimetype": "text/x-python",
   "name": "python",
   "nbconvert_exporter": "python",
   "pygments_lexer": "ipython3",
   "version": "3.7.7"
  }
 },
 "nbformat": 4,
 "nbformat_minor": 4
}
